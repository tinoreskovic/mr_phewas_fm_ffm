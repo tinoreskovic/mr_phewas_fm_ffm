{
 "cells": [
  {
   "cell_type": "code",
   "execution_count": 3,
   "metadata": {},
   "outputs": [],
   "source": [
    "import pyspark\n",
    "import dxpy\n",
    "import dxdata"
   ]
  },
  {
   "cell_type": "code",
   "execution_count": 4,
   "metadata": {},
   "outputs": [],
   "source": [
    "sc = pyspark.SparkContext()\n",
    "spark = pyspark.sql.SparkSession(sc)"
   ]
  },
  {
   "cell_type": "code",
   "execution_count": 5,
   "metadata": {},
   "outputs": [],
   "source": [
    "import dxpy\n",
    "import dxdata\n",
    "\n",
    "# Automatically discover dispensed dataset ID and load the dataset\n",
    "dispensed_dataset_id = dxpy.find_one_data_object(typename='Dataset', name='app*.dataset', folder='/', name_mode='glob')['id']\n",
    "dataset = dxdata.load_dataset(id=dispensed_dataset_id)"
   ]
  },
  {
   "cell_type": "code",
   "execution_count": 6,
   "metadata": {},
   "outputs": [],
   "source": [
    "participant = dataset['participant']"
   ]
  },
  {
   "cell_type": "code",
   "execution_count": 7,
   "metadata": {},
   "outputs": [],
   "source": [
    "def field_names_for_ids(field_ids):\n",
    "    from distutils.version import LooseVersion\n",
    "    fields = []\n",
    "    for field_id in field_ids:\n",
    "        field_id = 'p' + str(field_id)\n",
    "        fields += participant.find_fields(name_regex=r'^{}(_i\\d+)?(_a\\d+)?$'.format(field_id))\n",
    "    return sorted([field.name for field in fields], key=lambda n: LooseVersion(n))\n",
    "\n",
    "field_ids =  ['23100', '23101', '12144', '50', '31', '22000', '22001', '22003', '22004',\n",
    "             '22006', '22009', '21022',\n",
    "             '22010', '22011', '22012',\n",
    "             '22013', '22018', '22019',\n",
    "             '22021', '22027']\n",
    "field_names = ['eid'] + field_names_for_ids(field_ids)"
   ]
  },
  {
   "cell_type": "code",
   "execution_count": 8,
   "metadata": {},
   "outputs": [],
   "source": [
    "df = participant.retrieve_fields(names=field_names, engine=dxdata.connect())\n",
    "pdf = df.toPandas()"
   ]
  },
  {
   "cell_type": "code",
   "execution_count": 9,
   "metadata": {},
   "outputs": [
    {
     "data": {
      "text/plain": [
       "502387"
      ]
     },
     "execution_count": 9,
     "metadata": {},
     "output_type": "execute_result"
    }
   ],
   "source": [
    "len(pdf)"
   ]
  },
  {
   "cell_type": "code",
   "execution_count": 10,
   "metadata": {},
   "outputs": [
    {
     "data": {
      "text/plain": [
       "491369"
      ]
     },
     "execution_count": 10,
     "metadata": {},
     "output_type": "execute_result"
    }
   ],
   "source": [
    "pdf_qced = pdf[\n",
    "           (pdf['p23100_i0'].notnull()) &  # fat mass not missing&\n",
    "           (pdf['p23101_i0'].notnull())    # fat-free mass not missing\n",
    "]\n",
    "\n",
    "len(pdf_qced)"
   ]
  },
  {
   "cell_type": "code",
   "execution_count": 11,
   "metadata": {},
   "outputs": [
    {
     "data": {
      "text/plain": [
       "401714"
      ]
     },
     "execution_count": 11,
     "metadata": {},
     "output_type": "execute_result"
    }
   ],
   "source": [
    "pdf_qced = pdf[\n",
    "           (pdf['p22006']==1) &            # in_white_british_ancestry_subset\n",
    "           (pdf['p23100_i0'].notnull()) &  # fat mass not missing&\n",
    "           (pdf['p23101_i0'].notnull())    # fat-free mass not missing\n",
    "]\n",
    "\n",
    "len(pdf_qced)"
   ]
  },
  {
   "cell_type": "code",
   "execution_count": 12,
   "metadata": {},
   "outputs": [
    {
     "data": {
      "text/plain": [
       "401026"
      ]
     },
     "execution_count": 12,
     "metadata": {},
     "output_type": "execute_result"
    }
   ],
   "source": [
    "pdf_qced = pdf[\n",
    "           (pdf['p31'] == pdf['p22001']) & # Filter in sex and genetic sex are the same\n",
    "           (pdf['p22006']==1) &            # in_white_british_ancestry_subset\n",
    "           (pdf['p22019'].isnull()) &      # Not Sex chromosome aneuploidy\n",
    "           (pdf['p23100_i0'].notnull()) &  # fat mass not missing&\n",
    "           (pdf['p23101_i0'].notnull())    # fat-free mass not missing\n",
    "]\n",
    "\n",
    "len(pdf_qced)"
   ]
  },
  {
   "cell_type": "code",
   "execution_count": 13,
   "metadata": {},
   "outputs": [
    {
     "data": {
      "text/plain": [
       "400865"
      ]
     },
     "execution_count": 13,
     "metadata": {},
     "output_type": "execute_result"
    }
   ],
   "source": [
    "pdf_qced = pdf[\n",
    "           (pdf['p31'] == pdf['p22001']) & # Filter in sex and genetic sex are the same\n",
    "           (pdf['p22006']==1) &            # in_white_british_ancestry_subset\n",
    "           (pdf['p22019'].isnull()) &      # Not Sex chromosome aneuploidy\n",
    "           (pdf['p22021']!=10) &           # Not Ten or more third-degree relatives identified (not 'excess_relatives')\n",
    "           (pdf['p23100_i0'].notnull()) &  # fat mass not missing&\n",
    "           (pdf['p23101_i0'].notnull())    # fat-free mass not missing\n",
    "]\n",
    "\n",
    "len(pdf_qced)"
   ]
  },
  {
   "cell_type": "code",
   "execution_count": 14,
   "metadata": {},
   "outputs": [
    {
     "data": {
      "text/plain": [
       "400154"
      ]
     },
     "execution_count": 14,
     "metadata": {},
     "output_type": "execute_result"
    }
   ],
   "source": [
    "pdf_qced = pdf[\n",
    "           (pdf['p31'] == pdf['p22001']) & # Filter in sex and genetic sex are the same\n",
    "           (pdf['p22006']==1) &            # in_white_british_ancestry_subset\n",
    "           (pdf['p22019'].isnull()) &      # Not Sex chromosome aneuploidy\n",
    "           (pdf['p22021']!=10) &           # Not Ten or more third-degree relatives identified (not 'excess_relatives')\n",
    "           (pdf['p22027'].isnull()) &      # Not het_missing_outliers\n",
    "           (pdf['p23100_i0'].notnull()) &  # fat mass not missing&\n",
    "           (pdf['p23101_i0'].notnull())    # fat-free mass not missing\n",
    "]\n",
    "\n",
    "len(pdf_qced)"
   ]
  },
  {
   "cell_type": "code",
   "execution_count": 26,
   "metadata": {},
   "outputs": [],
   "source": [
    "pdf_qced = pdf[\n",
    "           (pdf['p31'] == pdf['p22001']) & # Filter in sex and genetic sex are the same\n",
    "           (pdf['p22006']==1) &            # in_white_british_ancestry_subset\n",
    "           (pdf['p22019'].isnull()) &      # Not Sex chromosome aneuploidy\n",
    "           (pdf['p22021']!=10) &           # Not Ten or more third-degree relatives identified (not 'excess_relatives')\n",
    "           (pdf['p22027'].isnull()) &      # Not het_missing_outliers\n",
    "           (pdf['p23100_i0'].notnull()) &  # fat mass not missing&\n",
    "           (pdf['p23101_i0'].notnull())    # fat-free mass not missing\n",
    "]"
   ]
  },
  {
   "cell_type": "code",
   "execution_count": 27,
   "metadata": {},
   "outputs": [
    {
     "data": {
      "text/plain": [
       "400154"
      ]
     },
     "execution_count": 27,
     "metadata": {},
     "output_type": "execute_result"
    }
   ],
   "source": [
    "pdf_qced.shape[0]"
   ]
  },
  {
   "cell_type": "code",
   "execution_count": 29,
   "metadata": {},
   "outputs": [],
   "source": [
    "import re\n",
    "pdf_qced = pdf_qced.rename(columns=lambda x: re.sub('p22009_a','pc',x))\n",
    "pdf_qced = pdf_qced.rename(columns={'eid':'IID', 'p31': 'sex', 'p22006': 'ethnic_group',\n",
    "                          'p22019': 'sex_chromosome_aneuploidy',\n",
    "                          'p21022': 'age',      \n",
    "                          'p22000': 'genotype_measurement_batch',\n",
    "                          'p22021': 'kinship_to_other_participants',\n",
    "                          'p22027': 'outliers_for_heterozygosity_or_missing',\n",
    "                          'p23100_i0': 'fat_mass',\n",
    "                          'p23101_i0': 'fat_free_mass'})"
   ]
  },
  {
   "cell_type": "code",
   "execution_count": 30,
   "metadata": {},
   "outputs": [],
   "source": [
    "# Add FID column -- required input format for regenie \n",
    "pdf_qced['FID'] = pdf_qced['IID']"
   ]
  },
  {
   "cell_type": "code",
   "execution_count": 31,
   "metadata": {},
   "outputs": [],
   "source": [
    "# Create a phenotype table from our QCed data\n",
    "pdf_phenotype = pdf_qced[['FID', 'IID', 'fat_mass', 'fat_free_mass', 'sex', 'age',\n",
    "                          'genotype_measurement_batch'] + [f'pc{i}' for i in range(1, 11)]]\n"
   ]
  },
  {
   "cell_type": "code",
   "execution_count": 53,
   "metadata": {},
   "outputs": [],
   "source": [
    "pdf_phenotype.to_csv('fm_ffm_4regenie.phe', sep='\\t', na_rep='NA', index=False, quoting=3)\n"
   ]
  },
  {
   "cell_type": "code",
   "execution_count": 54,
   "metadata": {},
   "outputs": [
    {
     "name": "stdout",
     "output_type": "stream",
     "text": [
      "file-GQ10zXjJxk60qYqgkgvjyPvv\n"
     ]
    }
   ],
   "source": [
    "%%bash\n",
    "dx upload fm_ffm_4regenie.phe -p --path /path_to_phenofiles/ --brief"
   ]
  }
 ],
 "metadata": {
  "kernelspec": {
   "display_name": "Python 3",
   "language": "python",
   "name": "python3"
  },
  "language_info": {
   "codemirror_mode": {
    "name": "ipython",
    "version": 3
   },
   "file_extension": ".py",
   "mimetype": "text/x-python",
   "name": "python",
   "nbconvert_exporter": "python",
   "pygments_lexer": "ipython3",
   "version": "3.6.5"
  }
 },
 "nbformat": 4,
 "nbformat_minor": 4
}
